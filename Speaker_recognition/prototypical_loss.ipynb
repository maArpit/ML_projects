{
  "nbformat": 4,
  "nbformat_minor": 0,
  "metadata": {
    "colab": {
      "name": "prototypical_loss.ipynb",
      "provenance": []
    },
    "kernelspec": {
      "name": "python3",
      "display_name": "Python 3"
    }
  },
  "cells": [
    {
      "cell_type": "code",
      "metadata": {
        "id": "DOKerLkCGJUk",
        "colab_type": "code",
        "colab": {}
      },
      "source": [
        "!pip install torchaudio\n",
        "import torch\n",
        "import torchaudio\n",
        "from torch.utils.data import Dataset, DataLoader\n",
        "import matplotlib.pyplot as plt"
      ],
      "execution_count": null,
      "outputs": []
    },
    {
      "cell_type": "code",
      "metadata": {
        "id": "KrOUjMmXJhzM",
        "colab_type": "code",
        "colab": {}
      },
      "source": [
        "from google.colab import drive\n",
        "drive.mount('/content/drive')"
      ],
      "execution_count": null,
      "outputs": []
    },
    {
      "cell_type": "markdown",
      "metadata": {
        "id": "ajx5mEV4KXwE",
        "colab_type": "text"
      },
      "source": [
        "Data Handling"
      ]
    },
    {
      "cell_type": "code",
      "metadata": {
        "id": "jlSTbEJOJxVk",
        "colab_type": "code",
        "colab": {}
      },
      "source": [
        "import random\n",
        "def extractData(n_speakers, n_samples):\n",
        "    speaker_data_dict = {}\n",
        "    speaker_data_list = []\n",
        "\n",
        "    dataset = torchaudio.datasets.LIBRISPEECH(root='/content/drive/My Drive/',download=False)\n",
        "\n",
        "    for data in dataset:\n",
        "        current_n_speakers = len(speaker_data_dict.keys())\n",
        "        if data[3] not in speaker_data_dict.keys():\n",
        "            if current_n_speakers == n_speakers: break\n",
        "            current_n_speakers += 1            \n",
        "            n_s = data[0].shape[1] // 32000\n",
        "            all_samples = data[0][0,:n_s*32000].view(n_s, 32000)\n",
        "            speaker_data_dict[data[3]] = all_samples\n",
        "\n",
        "        else :\n",
        "            n_s = data[0].shape[1] // 32000\n",
        "            all_samples = data[0][0,:n_s*32000].view(n_s, 32000)\n",
        "            speaker_data_dict[data[3]] = torch.cat([speaker_data_dict[data[3]], all_samples], 0)\n",
        "\n",
        "    for id in speaker_data_dict.keys():\n",
        "        random.shuffle(speaker_data_dict[id])\n",
        "        if speaker_data_dict[id].size(0) < n_samples: continue\n",
        "        spec = torchaudio.transforms.MelSpectrogram(hop_length=251)(speaker_data_dict[id][:n_samples])\n",
        "        spec = torchaudio.transforms.AmplitudeToDB()(spec).view(n_samples, 1, 128, 128)\n",
        "        speaker_data_list.append(spec)  \n",
        "    \n",
        "    return speaker_data_list"
      ],
      "execution_count": null,
      "outputs": []
    },
    {
      "cell_type": "code",
      "metadata": {
        "id": "EC94TDm1PuLx",
        "colab_type": "code",
        "colab": {}
      },
      "source": [
        "class SpeakerDataset(Dataset):\n",
        "    def __init__(self, data, n_speakers):\n",
        "        super(SpeakerDataset, self).__init__()\n",
        "        self.n_speakers = n_speakers\n",
        "        self.data = data\n",
        "\n",
        "    def __getitem__(self, speaker_id):\n",
        "        return self.data[speaker_id.item()]\n",
        "\n",
        "    def __len__(self):\n",
        "        return self.n_speakers        "
      ],
      "execution_count": null,
      "outputs": []
    },
    {
      "cell_type": "code",
      "metadata": {
        "id": "J_jwpD4fVA6m",
        "colab_type": "code",
        "colab": {}
      },
      "source": [
        "class EpisodicBatchSampler(object):\n",
        "    def __init__(self, n_speakers, n_way, n_episodes):\n",
        "        self.n_speakers = n_speakers\n",
        "        self.n_way = n_way\n",
        "        self.n_episodes = n_episodes\n",
        "\n",
        "    def __len__(self):\n",
        "        return self.n_episodes\n",
        "\n",
        "    def  __iter__(self):\n",
        "        for episode in range(self.n_episodes):\n",
        "            #print(self.n_speakers)\n",
        "            speakers = torch.randperm(self.n_speakers)[:self.n_way]\n",
        "            #print(torch.randperm(self.n_speakers)[:self.n_way])\n",
        "            yield torch.randperm(self.n_speakers)[:self.n_way]"
      ],
      "execution_count": null,
      "outputs": []
    },
    {
      "cell_type": "code",
      "metadata": {
        "id": "C3Cjl80ocGwp",
        "colab_type": "code",
        "colab": {}
      },
      "source": [
        "def extractEpisode(data, n_support, n_query):\n",
        "    xs, xq = [], []\n",
        "    for d in data:\n",
        "        xs.append(d[:n_support])\n",
        "        xq.append(d[n_support:n_support+n_query])\n",
        "\n",
        "    return {\n",
        "        'xs' : torch.stack(xs), \n",
        "        'xq' : torch.stack(xq)\n",
        "    }"
      ],
      "execution_count": null,
      "outputs": []
    },
    {
      "cell_type": "code",
      "metadata": {
        "id": "6RWKrIfrtCoV",
        "colab_type": "code",
        "colab": {}
      },
      "source": [
        "n_speakers = 20\n",
        "speakerData = extractData(n_speakers, 300)\n",
        "traindata_dict, testdata_dict = {}, {}\n",
        "for sid in range(n_speakers):\n",
        "    if sid < 15: traindata_dict[sid] = speakerData[sid]\n",
        "    else: testdata_dict[sid % 15] = speakerData[sid]"
      ],
      "execution_count": null,
      "outputs": []
    },
    {
      "cell_type": "code",
      "metadata": {
        "id": "waALU6WvAGn4",
        "colab_type": "code",
        "colab": {}
      },
      "source": [
        "traindata = SpeakerDataset(traindata_dict, 15)\n",
        "testdata = SpeakerDataset(testdata_dict, 5)"
      ],
      "execution_count": null,
      "outputs": []
    },
    {
      "cell_type": "code",
      "metadata": {
        "id": "DIAfPmabszJy",
        "colab_type": "code",
        "colab": {
          "base_uri": "https://localhost:8080/",
          "height": 34
        },
        "outputId": "61370fea-a375-403b-aea3-8065cf87d710"
      },
      "source": [
        "testdata[torch.tensor(4)].shape"
      ],
      "execution_count": null,
      "outputs": [
        {
          "output_type": "execute_result",
          "data": {
            "text/plain": [
              "torch.Size([300, 1, 128, 128])"
            ]
          },
          "metadata": {
            "tags": []
          },
          "execution_count": 27
        }
      ]
    },
    {
      "cell_type": "code",
      "metadata": {
        "id": "BEN8jJREyAnL",
        "colab_type": "code",
        "colab": {}
      },
      "source": [
        "n_way = 5\n",
        "n_episodes = 100\n",
        "sampler1 = EpisodicBatchSampler(len(traindata), n_way, n_episodes)\n",
        "sampler2 = EpisodicBatchSampler(len(testdata), 5, 1)\n",
        "trainloader = DataLoader(traindata, batch_sampler=sampler1, num_workers=0)\n",
        "testloader = DataLoader(testdata, batch_sampler=sampler2, num_workers=0)"
      ],
      "execution_count": null,
      "outputs": []
    },
    {
      "cell_type": "markdown",
      "metadata": {
        "id": "zvBza2HfblFn",
        "colab_type": "text"
      },
      "source": [
        "Neural Network"
      ]
    },
    {
      "cell_type": "code",
      "metadata": {
        "id": "WQVRi9zWduea",
        "colab_type": "code",
        "colab": {}
      },
      "source": [
        "import torch.nn as nn\n",
        "import torch.nn.functional as F\n",
        "\n",
        "class ProtoNet(nn.Module):\n",
        "    def __init__(self):\n",
        "        super(ProtoNet, self).__init__()\n",
        "\n",
        "        self.encoder = nn.Sequential(\n",
        "            conv_block(1, 3, 5),\n",
        "            conv_block(3, 6, 3),\n",
        "            conv_block(6, 6, 3),\n",
        "            conv_block(6, 6, 3),\n",
        "            Flatten(),\n",
        "            nn.Linear(216, 128),\n",
        "            nn.ReLU()\n",
        "        )\n",
        "\n",
        "    def forward(self, x):\n",
        "        return self.encoder(x)\n",
        "\n",
        "\n",
        "class Flatten(nn.Module):\n",
        "    def __init__(self):\n",
        "        super(Flatten, self).__init__()\n",
        "\n",
        "    def forward(self, x):\n",
        "        return x.view(x.size(0), -1)\n",
        "\n",
        "\n",
        "def conv_block(n_inputc, n_outputc, n_kernel):\n",
        "    return nn.Sequential(\n",
        "        nn.Conv2d(n_inputc, n_outputc, n_kernel),\n",
        "        nn.BatchNorm2d(n_outputc),\n",
        "        nn.ReLU(),\n",
        "        nn.MaxPool2d(2, 2)\n",
        "    )\n",
        "\n",
        "protonet = ProtoNet()        "
      ],
      "execution_count": null,
      "outputs": []
    },
    {
      "cell_type": "code",
      "metadata": {
        "id": "81xPyY1Gi5VS",
        "colab_type": "code",
        "colab": {}
      },
      "source": [
        "def euclidean_dist(x, y):\n",
        "    # x: N x D\n",
        "    # y: M x D\n",
        "    n = x.size(0)\n",
        "    m = y.size(0)\n",
        "    d = x.size(1)\n",
        "    assert d == y.size(1)\n",
        "\n",
        "    x = x.unsqueeze(1).expand(n, m, d)\n",
        "    y = y.unsqueeze(0).expand(n, m, d)\n",
        "\n",
        "    return torch.pow(x - y, 2).sum(2)\n",
        "\n",
        "def prototype_loss(encodings, n_speaker, n_support, n_query):\n",
        "    encoding_dim = encodings.size(-1)\n",
        "    prototypes = encodings[:n_speaker*n_support].view(n_speaker, n_support, encoding_dim).mean(1)\n",
        "    queries = encodings[n_speaker*n_support:]\n",
        "    \n",
        "    speaker_ind = torch.arange(0, n_speaker, requires_grad = False).view(n_speaker, 1, 1).expand(n_speaker, n_query, 1).long()\n",
        "\n",
        "    dists = euclidean_dist(queries, prototypes)\n",
        "\n",
        "    logp = F.log_softmax(-dists, dim=1).view(n_speaker, n_query, -1)\n",
        "\n",
        "    loss = -logp.gather(2, speaker_ind).squeeze().view(-1).mean()\n",
        "\n",
        "    return loss, logp"
      ],
      "execution_count": null,
      "outputs": []
    },
    {
      "cell_type": "code",
      "metadata": {
        "id": "AS9awTgvFYU5",
        "colab_type": "code",
        "colab": {}
      },
      "source": [
        "optimizer = torch.optim.SGD(protonet.parameters(), lr = .01)"
      ],
      "execution_count": null,
      "outputs": []
    },
    {
      "cell_type": "code",
      "metadata": {
        "id": "OsWxO472EfTq",
        "colab_type": "code",
        "colab": {}
      },
      "source": [
        "acc = []\n",
        "for data in trainloader:\n",
        "    episode = extractEpisode(data, 5, 200)\n",
        "    xs = episode['xs']\n",
        "    xq = episode['xq']\n",
        "\n",
        "    n_speaker = xs.size(0)\n",
        "    n_support = xs.size(1)\n",
        "    n_query = xq.size(1)\n",
        "\n",
        "    x = torch.cat((xs.view(n_speaker * n_support, *xs.size()[2:]),\n",
        "                xq.view(n_speaker * n_query, *xq.size()[2:])), dim=0)\n",
        "    \n",
        "    optimizer.zero_grad()\n",
        "    z = protonet(x)\n",
        "    \n",
        "    loss, log_prob = prototype_loss(z, n_speaker, n_support, n_query)\n",
        "    loss.backward()\n",
        "    optimizer.step()\n",
        "    _, y_hat = log_prob.max(2)\n",
        "    speaker_ind = torch.arange(0, n_speaker, requires_grad = False).view(n_speaker, 1).expand(n_speaker, n_query).long()\n",
        "    acc.append(torch.eq(y_hat, speaker_ind).float().mean())"
      ],
      "execution_count": null,
      "outputs": []
    },
    {
      "cell_type": "code",
      "metadata": {
        "id": "rtTS4xqLI-Z9",
        "colab_type": "code",
        "colab": {
          "base_uri": "https://localhost:8080/",
          "height": 282
        },
        "outputId": "b57fe4d2-c50a-42da-8d9a-a8ca76966439"
      },
      "source": [
        "plt.plot(acc)"
      ],
      "execution_count": null,
      "outputs": [
        {
          "output_type": "execute_result",
          "data": {
            "text/plain": [
              "[<matplotlib.lines.Line2D at 0x7f6edc791780>]"
            ]
          },
          "metadata": {
            "tags": []
          },
          "execution_count": 33
        },
        {
          "output_type": "display_data",
          "data": {
            "image/png": "[encoded data removed]",
            "text/plain": [
              "<Figure size 432x288 with 1 Axes>"
            ]
          },
          "metadata": {
            "tags": [],
            "needs_background": "light"
          }
        }
      ]
    },
    {
      "cell_type": "code",
      "metadata": {
        "id": "BgF1CLzyHkOm",
        "colab_type": "code",
        "colab": {}
      },
      "source": [
        "def test_protonet(testloader, n_query):\n",
        "    for data in testloader:\n",
        "        episode = extractEpisode(data, 5, n_query)\n",
        "        xs = episode['xs']\n",
        "        xq = episode['xq']\n",
        "        print(xq.shape)\n",
        "        n_speaker = xs.size(0)\n",
        "        n_support = xs.size(1)\n",
        "        n_query = xq.size(1)\n",
        "\n",
        "        x = torch.cat((xs.view(n_speaker * n_support, *xs.size()[2:]),\n",
        "                xq.view(n_speaker * n_query, *xq.size()[2:])), dim=0)\n",
        "        \n",
        "        z = protonet(x)\n",
        "\n",
        "        loss, log_prob = prototype_loss(z, n_speaker, n_support, n_query)\n",
        "        _, y_hat = log_prob.max(2)\n",
        "        speaker_ind = torch.arange(0, n_speaker, requires_grad = False).view(n_speaker, 1).expand(n_speaker, n_query).long()\n",
        "        return torch.eq(y_hat, speaker_ind).float().mean()"
      ],
      "execution_count": null,
      "outputs": []
    },
    {
      "cell_type": "code",
      "metadata": {
        "id": "79ZEWE5BSark",
        "colab_type": "code",
        "colab": {}
      },
      "source": [
        "acc = []\n",
        "for n in range(105, 205):\n",
        "    acc.append(test_protonet(testloader, n))"
      ],
      "execution_count": null,
      "outputs": []
    },
    {
      "cell_type": "code",
      "metadata": {
        "id": "GJyxOUeJg3U4",
        "colab_type": "code",
        "colab": {
          "base_uri": "https://localhost:8080/",
          "height": 282
        },
        "outputId": "315817d9-72fc-47a0-b461-379fe54c275d"
      },
      "source": [
        "plt.plot(acc)"
      ],
      "execution_count": null,
      "outputs": [
        {
          "output_type": "execute_result",
          "data": {
            "text/plain": [
              "[<matplotlib.lines.Line2D at 0x7f6ed60aaef0>]"
            ]
          },
          "metadata": {
            "tags": []
          },
          "execution_count": 42
        },
        {
          "output_type": "display_data",
          "data": {
            "image/png": "[encoded data removed]",
            "text/plain": [
              "<Figure size 432x288 with 1 Axes>"
            ]
          },
          "metadata": {
            "tags": [],
            "needs_background": "light"
          }
        }
      ]
    },
    {
      "cell_type": "code",
      "metadata": {
        "id": "_SHWPN-ZhHtg",
        "colab_type": "code",
        "colab": {
          "base_uri": "https://localhost:8080/",
          "height": 51
        },
        "outputId": "9869ca33-87d1-43d3-b972-fa244b8a5478"
      },
      "source": [
        "test_protonet(testloader, 401)"
      ],
      "execution_count": null,
      "outputs": [
        {
          "output_type": "stream",
          "text": [
            "torch.Size([5, 295, 1, 128, 128])\n"
          ],
          "name": "stdout"
        },
        {
          "output_type": "execute_result",
          "data": {
            "text/plain": [
              "tensor(0.8814)"
            ]
          },
          "metadata": {
            "tags": []
          },
          "execution_count": 40
        }
      ]
    },
    {
      "cell_type": "code",
      "metadata": {
        "id": "2ySY90qAu0J8",
        "colab_type": "code",
        "colab": {}
      },
      "source": [
        "test"
      ],
      "execution_count": null,
      "outputs": []
    }
  ]
}